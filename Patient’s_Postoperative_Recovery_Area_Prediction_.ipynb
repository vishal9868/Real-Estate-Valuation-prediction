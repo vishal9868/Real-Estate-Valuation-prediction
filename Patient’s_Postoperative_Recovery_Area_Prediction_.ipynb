{
  "cells": [
    {
      "cell_type": "markdown",
      "source": [
        "1) L-CORE (patient's internal temperature in C): high (> 37), mid (>= 36 and <= 37), low (< 36)\n",
        "2) L-SURF (patient's surface temperature in C): high (> 36.5), mid (>= 36.5 and <= 35), low (< 35)\n",
        "3) L-O2 (oxygen saturation in %): excellent (>= 98), good (>= 90 and < 98), fair (>= 80 and < 90), poor (< 80)\n",
        "4) L-BP (last measurement of blood pressure): high (> 130/90), mid (<= 130/90 and >= 90/70), low (< 90/70)\n",
        "5) SURF-STBL (stability of patient's surface temperature): stable, mod-stable, unstable\n",
        "6) CORE-STBL (stability of patient's core temperature): stable, mod-stable, unstable\n",
        "7) BP-STBL (stability of patient's blood pressure) stable, mod-stable, unstable\n",
        "8) COMFORT (patient's perceived comfort at discharge, measured as an integer between 0 and 20)\n",
        "The main objective is to build a predictive model, which could help them in predicting where patients in a postoperative recovery area should be sent to next. Because hypothermia is a significant concern after surgery.\n",
        "9) decision ADM-DECS (discharge decision): I (patient sent to Intensive Care Unit),S (patient prepared to go home),\n",
        "A (patient sent to general hospital floor)"
      ],
      "metadata": {
        "id": "VniRIYisaj1a"
      }
    },
    {
      "cell_type": "code",
      "execution_count": null,
      "metadata": {
        "id": "r_A-x7oUAlwk"
      },
      "outputs": [],
      "source": [
        "import numpy as np\n",
        "import pandas as pd\n",
        "from numpy import math\n",
        "\n",
        "from sklearn.preprocessing import MinMaxScaler\n",
        "from sklearn.model_selection import train_test_split\n",
        "from sklearn.linear_model import LinearRegression\n",
        "from sklearn.metrics import r2_score\n",
        "from sklearn.metrics import mean_squared_error\n",
        "\n",
        "import matplotlib.pyplot as plt\n",
        "import seaborn as sns"
      ]
    },
    {
      "cell_type": "markdown",
      "source": [
        "Importing file "
      ],
      "metadata": {
        "id": "IXyd2_gDb2Cn"
      }
    },
    {
      "cell_type": "code",
      "source": [
        "df=pd.read_csv('/post-operative (1).data',heder= None)"
      ],
      "metadata": {
        "id": "OJGwq46JbICx"
      },
      "execution_count": null,
      "outputs": []
    },
    {
      "cell_type": "code",
      "execution_count": null,
      "metadata": {
        "colab": {
          "base_uri": "https://localhost:8080/",
          "height": 206
        },
        "id": "AhLHVMc3CH1v",
        "outputId": "dfc23346-7f00-4b11-8bd9-2976780bb30b"
      },
      "outputs": [
        {
          "output_type": "execute_result",
          "data": {
            "text/plain": [
              "      0     1          2     3       4         5           6   7   8\n",
              "0   mid   low  excellent   mid  stable    stable      stable  15   A\n",
              "1   mid  high  excellent  high  stable    stable      stable  10   S\n",
              "2  high   low  excellent  high  stable    stable  mod-stable  10   A\n",
              "3   mid   low       good  high  stable  unstable  mod-stable  15  A \n",
              "4   mid   mid  excellent  high  stable    stable      stable  10   A"
            ],
            "text/html": [
              "\n",
              "  <div id=\"df-08061bec-a2d3-432d-a58f-b53bab38fc74\">\n",
              "    <div class=\"colab-df-container\">\n",
              "      <div>\n",
              "<style scoped>\n",
              "    .dataframe tbody tr th:only-of-type {\n",
              "        vertical-align: middle;\n",
              "    }\n",
              "\n",
              "    .dataframe tbody tr th {\n",
              "        vertical-align: top;\n",
              "    }\n",
              "\n",
              "    .dataframe thead th {\n",
              "        text-align: right;\n",
              "    }\n",
              "</style>\n",
              "<table border=\"1\" class=\"dataframe\">\n",
              "  <thead>\n",
              "    <tr style=\"text-align: right;\">\n",
              "      <th></th>\n",
              "      <th>0</th>\n",
              "      <th>1</th>\n",
              "      <th>2</th>\n",
              "      <th>3</th>\n",
              "      <th>4</th>\n",
              "      <th>5</th>\n",
              "      <th>6</th>\n",
              "      <th>7</th>\n",
              "      <th>8</th>\n",
              "    </tr>\n",
              "  </thead>\n",
              "  <tbody>\n",
              "    <tr>\n",
              "      <th>0</th>\n",
              "      <td>mid</td>\n",
              "      <td>low</td>\n",
              "      <td>excellent</td>\n",
              "      <td>mid</td>\n",
              "      <td>stable</td>\n",
              "      <td>stable</td>\n",
              "      <td>stable</td>\n",
              "      <td>15</td>\n",
              "      <td>A</td>\n",
              "    </tr>\n",
              "    <tr>\n",
              "      <th>1</th>\n",
              "      <td>mid</td>\n",
              "      <td>high</td>\n",
              "      <td>excellent</td>\n",
              "      <td>high</td>\n",
              "      <td>stable</td>\n",
              "      <td>stable</td>\n",
              "      <td>stable</td>\n",
              "      <td>10</td>\n",
              "      <td>S</td>\n",
              "    </tr>\n",
              "    <tr>\n",
              "      <th>2</th>\n",
              "      <td>high</td>\n",
              "      <td>low</td>\n",
              "      <td>excellent</td>\n",
              "      <td>high</td>\n",
              "      <td>stable</td>\n",
              "      <td>stable</td>\n",
              "      <td>mod-stable</td>\n",
              "      <td>10</td>\n",
              "      <td>A</td>\n",
              "    </tr>\n",
              "    <tr>\n",
              "      <th>3</th>\n",
              "      <td>mid</td>\n",
              "      <td>low</td>\n",
              "      <td>good</td>\n",
              "      <td>high</td>\n",
              "      <td>stable</td>\n",
              "      <td>unstable</td>\n",
              "      <td>mod-stable</td>\n",
              "      <td>15</td>\n",
              "      <td>A</td>\n",
              "    </tr>\n",
              "    <tr>\n",
              "      <th>4</th>\n",
              "      <td>mid</td>\n",
              "      <td>mid</td>\n",
              "      <td>excellent</td>\n",
              "      <td>high</td>\n",
              "      <td>stable</td>\n",
              "      <td>stable</td>\n",
              "      <td>stable</td>\n",
              "      <td>10</td>\n",
              "      <td>A</td>\n",
              "    </tr>\n",
              "  </tbody>\n",
              "</table>\n",
              "</div>\n",
              "      <button class=\"colab-df-convert\" onclick=\"convertToInteractive('df-08061bec-a2d3-432d-a58f-b53bab38fc74')\"\n",
              "              title=\"Convert this dataframe to an interactive table.\"\n",
              "              style=\"display:none;\">\n",
              "        \n",
              "  <svg xmlns=\"http://www.w3.org/2000/svg\" height=\"24px\"viewBox=\"0 0 24 24\"\n",
              "       width=\"24px\">\n",
              "    <path d=\"M0 0h24v24H0V0z\" fill=\"none\"/>\n",
              "    <path d=\"M18.56 5.44l.94 2.06.94-2.06 2.06-.94-2.06-.94-.94-2.06-.94 2.06-2.06.94zm-11 1L8.5 8.5l.94-2.06 2.06-.94-2.06-.94L8.5 2.5l-.94 2.06-2.06.94zm10 10l.94 2.06.94-2.06 2.06-.94-2.06-.94-.94-2.06-.94 2.06-2.06.94z\"/><path d=\"M17.41 7.96l-1.37-1.37c-.4-.4-.92-.59-1.43-.59-.52 0-1.04.2-1.43.59L10.3 9.45l-7.72 7.72c-.78.78-.78 2.05 0 2.83L4 21.41c.39.39.9.59 1.41.59.51 0 1.02-.2 1.41-.59l7.78-7.78 2.81-2.81c.8-.78.8-2.07 0-2.86zM5.41 20L4 18.59l7.72-7.72 1.47 1.35L5.41 20z\"/>\n",
              "  </svg>\n",
              "      </button>\n",
              "      \n",
              "  <style>\n",
              "    .colab-df-container {\n",
              "      display:flex;\n",
              "      flex-wrap:wrap;\n",
              "      gap: 12px;\n",
              "    }\n",
              "\n",
              "    .colab-df-convert {\n",
              "      background-color: #E8F0FE;\n",
              "      border: none;\n",
              "      border-radius: 50%;\n",
              "      cursor: pointer;\n",
              "      display: none;\n",
              "      fill: #1967D2;\n",
              "      height: 32px;\n",
              "      padding: 0 0 0 0;\n",
              "      width: 32px;\n",
              "    }\n",
              "\n",
              "    .colab-df-convert:hover {\n",
              "      background-color: #E2EBFA;\n",
              "      box-shadow: 0px 1px 2px rgba(60, 64, 67, 0.3), 0px 1px 3px 1px rgba(60, 64, 67, 0.15);\n",
              "      fill: #174EA6;\n",
              "    }\n",
              "\n",
              "    [theme=dark] .colab-df-convert {\n",
              "      background-color: #3B4455;\n",
              "      fill: #D2E3FC;\n",
              "    }\n",
              "\n",
              "    [theme=dark] .colab-df-convert:hover {\n",
              "      background-color: #434B5C;\n",
              "      box-shadow: 0px 1px 3px 1px rgba(0, 0, 0, 0.15);\n",
              "      filter: drop-shadow(0px 1px 2px rgba(0, 0, 0, 0.3));\n",
              "      fill: #FFFFFF;\n",
              "    }\n",
              "  </style>\n",
              "\n",
              "      <script>\n",
              "        const buttonEl =\n",
              "          document.querySelector('#df-08061bec-a2d3-432d-a58f-b53bab38fc74 button.colab-df-convert');\n",
              "        buttonEl.style.display =\n",
              "          google.colab.kernel.accessAllowed ? 'block' : 'none';\n",
              "\n",
              "        async function convertToInteractive(key) {\n",
              "          const element = document.querySelector('#df-08061bec-a2d3-432d-a58f-b53bab38fc74');\n",
              "          const dataTable =\n",
              "            await google.colab.kernel.invokeFunction('convertToInteractive',\n",
              "                                                     [key], {});\n",
              "          if (!dataTable) return;\n",
              "\n",
              "          const docLinkHtml = 'Like what you see? Visit the ' +\n",
              "            '<a target=\"_blank\" href=https://colab.research.google.com/notebooks/data_table.ipynb>data table notebook</a>'\n",
              "            + ' to learn more about interactive tables.';\n",
              "          element.innerHTML = '';\n",
              "          dataTable['output_type'] = 'display_data';\n",
              "          await google.colab.output.renderOutput(dataTable, element);\n",
              "          const docLink = document.createElement('div');\n",
              "          docLink.innerHTML = docLinkHtml;\n",
              "          element.appendChild(docLink);\n",
              "        }\n",
              "      </script>\n",
              "    </div>\n",
              "  </div>\n",
              "  "
            ]
          },
          "metadata": {},
          "execution_count": 3
        }
      ],
      "source": [
        "df.head()"
      ]
    },
    {
      "cell_type": "code",
      "execution_count": null,
      "metadata": {
        "colab": {
          "base_uri": "https://localhost:8080/"
        },
        "id": "wXnwZoz3CX1l",
        "outputId": "5e2e344a-ec35-434e-cc0f-c4bbf3d080bf"
      },
      "outputs": [
        {
          "output_type": "stream",
          "name": "stdout",
          "text": [
            "<class 'pandas.core.frame.DataFrame'>\n",
            "RangeIndex: 90 entries, 0 to 89\n",
            "Data columns (total 9 columns):\n",
            " #   Column  Non-Null Count  Dtype \n",
            "---  ------  --------------  ----- \n",
            " 0   0       90 non-null     object\n",
            " 1   1       90 non-null     object\n",
            " 2   2       90 non-null     object\n",
            " 3   3       90 non-null     object\n",
            " 4   4       90 non-null     object\n",
            " 5   5       90 non-null     object\n",
            " 6   6       90 non-null     object\n",
            " 7   7       90 non-null     object\n",
            " 8   8       90 non-null     object\n",
            "dtypes: object(9)\n",
            "memory usage: 6.5+ KB\n"
          ]
        }
      ],
      "source": [
        "df.info()"
      ]
    },
    {
      "cell_type": "markdown",
      "source": [
        "Data preprocessing"
      ],
      "metadata": {
        "id": "6z5ck73yb_E8"
      }
    },
    {
      "cell_type": "code",
      "execution_count": null,
      "metadata": {
        "id": "yz99YEp7D4a2"
      },
      "outputs": [],
      "source": [
        "df.rename(columns=\n",
        "               {0 : 'core_temp' ,\n",
        "                1 : 'surf_temp' ,\n",
        "                2 : 'o2_satur' ,\n",
        "                3 : 'bp' ,\n",
        "                4 : 'surf_temp_stbl' ,\n",
        "                5 : 'core_temp_stbl' ,\n",
        "                6 : 'bp_stbl' ,\n",
        "                7 : 'comfort' ,\n",
        "                8 : 'decision'},inplace=True)"
      ]
    },
    {
      "cell_type": "code",
      "execution_count": null,
      "metadata": {
        "id": "lV_OycSjCbV3"
      },
      "outputs": [],
      "source": [
        "df['core_temp']= df['core_temp'].replace({'high' : 2 , 'mid' : 1 ,'low' : 0})\n",
        "df['surf_temp'] = df['surf_temp'].replace({'high' : 2 , 'mid' : 1 ,'low' : 0})\n",
        "df['bp'] = df['bp'].replace({'high' : 2 , 'mid' : 1 ,'low' : 0})\n",
        "df['surf_temp_stbl'] = df['surf_temp_stbl'].replace({'stable' : 2 , 'mod_stable' : 1 ,'unstable' : 0})\n",
        "df['core_temp_stbl'] = df['core_temp_stbl'].replace({'stable' : 2 , 'mod_stable' : 1 ,'mod-stable' : 1 ,'unstable' : 0})\n",
        "df['bp_stbl'] = df['bp'].replace({'stable' : 2 , 'mod_stable' : 1 ,'unstable' : 0})\n",
        "df['o2_satur'] = df['o2_satur'].replace({'poor' : 0 , 'fair' : 1 , 'good' : 2 , 'excellent' : 3})\n",
        "df['decision'] = df['decision'].replace({'I' : 0 , 'A' : 1 ,'A ' : 1, 'S' : 2})"
      ]
    },
    {
      "cell_type": "code",
      "execution_count": null,
      "metadata": {
        "colab": {
          "base_uri": "https://localhost:8080/"
        },
        "id": "-oslLW9oCvn2",
        "outputId": "c57fa49f-7862-4efb-9dea-967df6efce7e"
      },
      "outputs": [
        {
          "output_type": "stream",
          "name": "stdout",
          "text": [
            "<class 'pandas.core.frame.DataFrame'>\n",
            "RangeIndex: 90 entries, 0 to 89\n",
            "Data columns (total 9 columns):\n",
            " #   Column          Non-Null Count  Dtype \n",
            "---  ------          --------------  ----- \n",
            " 0   core_temp       90 non-null     int64 \n",
            " 1   surf_temp       90 non-null     int64 \n",
            " 2   o2_satur        90 non-null     int64 \n",
            " 3   bp              90 non-null     int64 \n",
            " 4   surf_temp_stbl  90 non-null     int64 \n",
            " 5   core_temp_stbl  90 non-null     int64 \n",
            " 6   bp_stbl         90 non-null     int64 \n",
            " 7   comfort         90 non-null     object\n",
            " 8   decision        90 non-null     int64 \n",
            "dtypes: int64(8), object(1)\n",
            "memory usage: 6.5+ KB\n"
          ]
        }
      ],
      "source": [
        "df.info()"
      ]
    },
    {
      "cell_type": "code",
      "execution_count": null,
      "metadata": {
        "colab": {
          "base_uri": "https://localhost:8080/"
        },
        "id": "gF3BexyTHSV2",
        "outputId": "cab17b23-d160-46a4-dbf0-c9433f558e27"
      },
      "outputs": [
        {
          "output_type": "execute_result",
          "data": {
            "text/plain": [
              "10    65\n",
              "15    19\n",
              "?      3\n",
              "05     2\n",
              "07     1\n",
              "Name: comfort, dtype: int64"
            ]
          },
          "metadata": {},
          "execution_count": 8
        }
      ],
      "source": [
        "df['comfort'].value_counts()"
      ]
    },
    {
      "cell_type": "code",
      "execution_count": null,
      "metadata": {
        "colab": {
          "base_uri": "https://localhost:8080/"
        },
        "id": "QubQQoOVMApf",
        "outputId": "12bb7023-b8dc-4142-99c1-95f2317860a4"
      },
      "outputs": [
        {
          "output_type": "stream",
          "name": "stderr",
          "text": [
            "/usr/local/lib/python3.7/dist-packages/ipykernel_launcher.py:1: FutureWarning: The default value of regex will change from True to False in a future version. In addition, single character regular expressions will *not* be treated as literal strings when regex=True.\n",
            "  \"\"\"Entry point for launching an IPython kernel.\n"
          ]
        }
      ],
      "source": [
        "df['comfort'] = df['comfort'].str.replace('?' , '10').astype(int)"
      ]
    },
    {
      "cell_type": "code",
      "execution_count": null,
      "metadata": {
        "colab": {
          "base_uri": "https://localhost:8080/"
        },
        "id": "oiEqMl9xHZSL",
        "outputId": "72b9b2c9-bdb8-4c63-b868-f0ab638bf562"
      },
      "outputs": [
        {
          "output_type": "stream",
          "name": "stdout",
          "text": [
            "<class 'pandas.core.frame.DataFrame'>\n",
            "RangeIndex: 90 entries, 0 to 89\n",
            "Data columns (total 9 columns):\n",
            " #   Column          Non-Null Count  Dtype\n",
            "---  ------          --------------  -----\n",
            " 0   core_temp       90 non-null     int64\n",
            " 1   surf_temp       90 non-null     int64\n",
            " 2   o2_satur        90 non-null     int64\n",
            " 3   bp              90 non-null     int64\n",
            " 4   surf_temp_stbl  90 non-null     int64\n",
            " 5   core_temp_stbl  90 non-null     int64\n",
            " 6   bp_stbl         90 non-null     int64\n",
            " 7   comfort         90 non-null     int64\n",
            " 8   decision        90 non-null     int64\n",
            "dtypes: int64(9)\n",
            "memory usage: 6.5 KB\n"
          ]
        }
      ],
      "source": [
        "df.info()"
      ]
    },
    {
      "cell_type": "code",
      "execution_count": null,
      "metadata": {
        "colab": {
          "base_uri": "https://localhost:8080/",
          "height": 206
        },
        "id": "2rM8ceCLHcEv",
        "outputId": "c6a57b3d-f9e4-47a9-fd6b-d4f79ec37e00"
      },
      "outputs": [
        {
          "output_type": "execute_result",
          "data": {
            "text/plain": [
              "   core_temp  surf_temp  o2_satur        bp  surf_temp_stbl  core_temp_stbl  \\\n",
              "0   0.112509  -1.345166  1.045478 -0.570352             1.0        0.284975   \n",
              "1   0.112509   1.607638  1.045478  1.330821             1.0        0.284975   \n",
              "2   1.800141  -1.345166  1.045478  1.330821             1.0        0.284975   \n",
              "3   0.112509  -1.345166 -0.956501  1.330821             1.0       -3.660837   \n",
              "4   0.112509   0.131236  1.045478  1.330821             1.0        0.284975   \n",
              "\n",
              "    bp_stbl   comfort  \n",
              "0 -0.570352  1.810021  \n",
              "1  1.330821 -0.403320  \n",
              "2  1.330821 -0.403320  \n",
              "3  1.330821  1.810021  \n",
              "4  1.330821 -0.403320  "
            ],
            "text/html": [
              "\n",
              "  <div id=\"df-ee86ee7c-6dde-4dd1-815a-7e7f36ac9630\">\n",
              "    <div class=\"colab-df-container\">\n",
              "      <div>\n",
              "<style scoped>\n",
              "    .dataframe tbody tr th:only-of-type {\n",
              "        vertical-align: middle;\n",
              "    }\n",
              "\n",
              "    .dataframe tbody tr th {\n",
              "        vertical-align: top;\n",
              "    }\n",
              "\n",
              "    .dataframe thead th {\n",
              "        text-align: right;\n",
              "    }\n",
              "</style>\n",
              "<table border=\"1\" class=\"dataframe\">\n",
              "  <thead>\n",
              "    <tr style=\"text-align: right;\">\n",
              "      <th></th>\n",
              "      <th>core_temp</th>\n",
              "      <th>surf_temp</th>\n",
              "      <th>o2_satur</th>\n",
              "      <th>bp</th>\n",
              "      <th>surf_temp_stbl</th>\n",
              "      <th>core_temp_stbl</th>\n",
              "      <th>bp_stbl</th>\n",
              "      <th>comfort</th>\n",
              "    </tr>\n",
              "  </thead>\n",
              "  <tbody>\n",
              "    <tr>\n",
              "      <th>0</th>\n",
              "      <td>0.112509</td>\n",
              "      <td>-1.345166</td>\n",
              "      <td>1.045478</td>\n",
              "      <td>-0.570352</td>\n",
              "      <td>1.0</td>\n",
              "      <td>0.284975</td>\n",
              "      <td>-0.570352</td>\n",
              "      <td>1.810021</td>\n",
              "    </tr>\n",
              "    <tr>\n",
              "      <th>1</th>\n",
              "      <td>0.112509</td>\n",
              "      <td>1.607638</td>\n",
              "      <td>1.045478</td>\n",
              "      <td>1.330821</td>\n",
              "      <td>1.0</td>\n",
              "      <td>0.284975</td>\n",
              "      <td>1.330821</td>\n",
              "      <td>-0.403320</td>\n",
              "    </tr>\n",
              "    <tr>\n",
              "      <th>2</th>\n",
              "      <td>1.800141</td>\n",
              "      <td>-1.345166</td>\n",
              "      <td>1.045478</td>\n",
              "      <td>1.330821</td>\n",
              "      <td>1.0</td>\n",
              "      <td>0.284975</td>\n",
              "      <td>1.330821</td>\n",
              "      <td>-0.403320</td>\n",
              "    </tr>\n",
              "    <tr>\n",
              "      <th>3</th>\n",
              "      <td>0.112509</td>\n",
              "      <td>-1.345166</td>\n",
              "      <td>-0.956501</td>\n",
              "      <td>1.330821</td>\n",
              "      <td>1.0</td>\n",
              "      <td>-3.660837</td>\n",
              "      <td>1.330821</td>\n",
              "      <td>1.810021</td>\n",
              "    </tr>\n",
              "    <tr>\n",
              "      <th>4</th>\n",
              "      <td>0.112509</td>\n",
              "      <td>0.131236</td>\n",
              "      <td>1.045478</td>\n",
              "      <td>1.330821</td>\n",
              "      <td>1.0</td>\n",
              "      <td>0.284975</td>\n",
              "      <td>1.330821</td>\n",
              "      <td>-0.403320</td>\n",
              "    </tr>\n",
              "  </tbody>\n",
              "</table>\n",
              "</div>\n",
              "      <button class=\"colab-df-convert\" onclick=\"convertToInteractive('df-ee86ee7c-6dde-4dd1-815a-7e7f36ac9630')\"\n",
              "              title=\"Convert this dataframe to an interactive table.\"\n",
              "              style=\"display:none;\">\n",
              "        \n",
              "  <svg xmlns=\"http://www.w3.org/2000/svg\" height=\"24px\"viewBox=\"0 0 24 24\"\n",
              "       width=\"24px\">\n",
              "    <path d=\"M0 0h24v24H0V0z\" fill=\"none\"/>\n",
              "    <path d=\"M18.56 5.44l.94 2.06.94-2.06 2.06-.94-2.06-.94-.94-2.06-.94 2.06-2.06.94zm-11 1L8.5 8.5l.94-2.06 2.06-.94-2.06-.94L8.5 2.5l-.94 2.06-2.06.94zm10 10l.94 2.06.94-2.06 2.06-.94-2.06-.94-.94-2.06-.94 2.06-2.06.94z\"/><path d=\"M17.41 7.96l-1.37-1.37c-.4-.4-.92-.59-1.43-.59-.52 0-1.04.2-1.43.59L10.3 9.45l-7.72 7.72c-.78.78-.78 2.05 0 2.83L4 21.41c.39.39.9.59 1.41.59.51 0 1.02-.2 1.41-.59l7.78-7.78 2.81-2.81c.8-.78.8-2.07 0-2.86zM5.41 20L4 18.59l7.72-7.72 1.47 1.35L5.41 20z\"/>\n",
              "  </svg>\n",
              "      </button>\n",
              "      \n",
              "  <style>\n",
              "    .colab-df-container {\n",
              "      display:flex;\n",
              "      flex-wrap:wrap;\n",
              "      gap: 12px;\n",
              "    }\n",
              "\n",
              "    .colab-df-convert {\n",
              "      background-color: #E8F0FE;\n",
              "      border: none;\n",
              "      border-radius: 50%;\n",
              "      cursor: pointer;\n",
              "      display: none;\n",
              "      fill: #1967D2;\n",
              "      height: 32px;\n",
              "      padding: 0 0 0 0;\n",
              "      width: 32px;\n",
              "    }\n",
              "\n",
              "    .colab-df-convert:hover {\n",
              "      background-color: #E2EBFA;\n",
              "      box-shadow: 0px 1px 2px rgba(60, 64, 67, 0.3), 0px 1px 3px 1px rgba(60, 64, 67, 0.15);\n",
              "      fill: #174EA6;\n",
              "    }\n",
              "\n",
              "    [theme=dark] .colab-df-convert {\n",
              "      background-color: #3B4455;\n",
              "      fill: #D2E3FC;\n",
              "    }\n",
              "\n",
              "    [theme=dark] .colab-df-convert:hover {\n",
              "      background-color: #434B5C;\n",
              "      box-shadow: 0px 1px 3px 1px rgba(0, 0, 0, 0.15);\n",
              "      filter: drop-shadow(0px 1px 2px rgba(0, 0, 0, 0.3));\n",
              "      fill: #FFFFFF;\n",
              "    }\n",
              "  </style>\n",
              "\n",
              "      <script>\n",
              "        const buttonEl =\n",
              "          document.querySelector('#df-ee86ee7c-6dde-4dd1-815a-7e7f36ac9630 button.colab-df-convert');\n",
              "        buttonEl.style.display =\n",
              "          google.colab.kernel.accessAllowed ? 'block' : 'none';\n",
              "\n",
              "        async function convertToInteractive(key) {\n",
              "          const element = document.querySelector('#df-ee86ee7c-6dde-4dd1-815a-7e7f36ac9630');\n",
              "          const dataTable =\n",
              "            await google.colab.kernel.invokeFunction('convertToInteractive',\n",
              "                                                     [key], {});\n",
              "          if (!dataTable) return;\n",
              "\n",
              "          const docLinkHtml = 'Like what you see? Visit the ' +\n",
              "            '<a target=\"_blank\" href=https://colab.research.google.com/notebooks/data_table.ipynb>data table notebook</a>'\n",
              "            + ' to learn more about interactive tables.';\n",
              "          element.innerHTML = '';\n",
              "          dataTable['output_type'] = 'display_data';\n",
              "          await google.colab.output.renderOutput(dataTable, element);\n",
              "          const docLink = document.createElement('div');\n",
              "          docLink.innerHTML = docLinkHtml;\n",
              "          element.appendChild(docLink);\n",
              "        }\n",
              "      </script>\n",
              "    </div>\n",
              "  </div>\n",
              "  "
            ]
          },
          "metadata": {},
          "execution_count": 11
        }
      ],
      "source": [
        "from sklearn.preprocessing import StandardScaler\n",
        "scaler = StandardScaler()\n",
        "scaler.fit(df.drop('decision', axis = 1))\n",
        "scaled_features = scaler.transform(df.drop('decision', axis = 1))\n",
        " \n",
        "df_feat = pd.DataFrame(scaled_features, columns = df.columns[:-1])\n",
        "df_feat.head()"
      ]
    },
    {
      "cell_type": "code",
      "execution_count": null,
      "metadata": {
        "id": "zSedXpnpHi2f"
      },
      "outputs": [],
      "source": [
        "independent_variables = list(set(df_feat.columns.to_list()))"
      ]
    },
    {
      "cell_type": "code",
      "execution_count": null,
      "metadata": {
        "id": "mHtpKiaMHp3r"
      },
      "outputs": [],
      "source": [
        "feature_train, feature_test, target_train, target_test = train_test_split(scaled_features, df['decision'], test_size = 0.21)"
      ]
    },
    {
      "cell_type": "code",
      "execution_count": null,
      "metadata": {
        "colab": {
          "base_uri": "https://localhost:8080/"
        },
        "id": "8Kr5aDpsHy2g",
        "outputId": "a122f77f-a788-4aa0-ca37-7d5bd9b5abff"
      },
      "outputs": [
        {
          "output_type": "execute_result",
          "data": {
            "text/plain": [
              "LogisticRegression(max_iter=10000, multi_class='multinomial')"
            ]
          },
          "metadata": {},
          "execution_count": 36
        }
      ],
      "source": [
        "from sklearn.linear_model import LogisticRegression\n",
        "\n",
        "model = LogisticRegression(multi_class='multinomial',fit_intercept=True, max_iter=10000)\n",
        "model.fit(feature_train, target_train)"
      ]
    },
    {
      "cell_type": "code",
      "execution_count": null,
      "metadata": {
        "id": "bOwaf8lCH64F"
      },
      "outputs": [],
      "source": [
        "train_preds = model.predict_proba(feature_train)\n",
        "test_preds = model.predict_proba(feature_test)"
      ]
    },
    {
      "cell_type": "code",
      "execution_count": null,
      "metadata": {
        "id": "ukjpBfz0H-CB"
      },
      "outputs": [],
      "source": [
        "train_class_preds = model.predict(feature_train)\n",
        "test_class_preds = model.predict(feature_test)"
      ]
    },
    {
      "cell_type": "code",
      "execution_count": null,
      "metadata": {
        "colab": {
          "base_uri": "https://localhost:8080/"
        },
        "id": "vbYlYtCeIv-l",
        "outputId": "66d115b2-ecf9-4176-9dfd-b05775871a36"
      },
      "outputs": [
        {
          "output_type": "execute_result",
          "data": {
            "text/plain": [
              "array([1, 1, 2, 1, 1, 1, 1, 1, 1, 1, 1, 1, 1, 1, 1, 1, 1, 2, 1, 1, 1, 1,\n",
              "       1, 1, 1, 1, 1, 1, 1, 1, 1, 1, 1, 1, 1, 1, 1, 1, 2, 1, 1, 2, 1, 1,\n",
              "       1, 1, 1, 1, 1, 1, 1, 1, 1, 1, 1, 1, 1, 1, 1, 1, 1, 1, 1, 1, 1, 1,\n",
              "       1, 1, 1, 1, 1])"
            ]
          },
          "metadata": {},
          "execution_count": 39
        }
      ],
      "source": [
        "train_class_preds"
      ]
    },
    {
      "cell_type": "code",
      "execution_count": null,
      "metadata": {
        "colab": {
          "base_uri": "https://localhost:8080/"
        },
        "id": "vqtaxBbkJBPB",
        "outputId": "7921cf7b-06e6-406f-851e-aece7139a146"
      },
      "outputs": [
        {
          "output_type": "execute_result",
          "data": {
            "text/plain": [
              "array([1, 1, 1, 1, 1, 1, 1, 1, 1, 1, 1, 1, 1, 1, 1, 1, 1, 1, 1])"
            ]
          },
          "metadata": {},
          "execution_count": 40
        }
      ],
      "source": [
        "test_class_preds"
      ]
    },
    {
      "cell_type": "markdown",
      "source": [
        " confusion_matrix"
      ],
      "metadata": {
        "id": "WNn4kDKVcK3w"
      }
    },
    {
      "cell_type": "code",
      "execution_count": null,
      "metadata": {
        "id": "zPli2Q9dJYd-"
      },
      "outputs": [],
      "source": [
        "from sklearn.metrics import accuracy_score, confusion_matrix"
      ]
    },
    {
      "cell_type": "code",
      "execution_count": null,
      "metadata": {
        "colab": {
          "base_uri": "https://localhost:8080/"
        },
        "id": "GGnzDvtwJbVF",
        "outputId": "9da646b6-03ba-4593-c49b-05342100da52"
      },
      "outputs": [
        {
          "output_type": "stream",
          "name": "stdout",
          "text": [
            "The accuracy on train data =  0.676056338028169\n",
            "The accuracy on test data =  0.7368421052631579\n"
          ]
        }
      ],
      "source": [
        "train_accuracy = accuracy_score(train_class_preds,target_train)\n",
        "test_accuracy = accuracy_score(test_class_preds,target_test)\n",
        "\n",
        "print(\"The accuracy on train data = \", train_accuracy)\n",
        "print(\"The accuracy on test data = \", test_accuracy)"
      ]
    },
    {
      "cell_type": "code",
      "execution_count": null,
      "metadata": {
        "colab": {
          "base_uri": "https://localhost:8080/"
        },
        "id": "wcnIzIsOJrMO",
        "outputId": "fdb6b918-7a8f-4f8b-b4bc-41b2520adb2d"
      },
      "outputs": [
        {
          "output_type": "stream",
          "name": "stdout",
          "text": [
            "[[14  0]\n",
            " [ 5  0]]\n"
          ]
        }
      ],
      "source": [
        "cm = confusion_matrix(target_test, test_class_preds)\n",
        "print(cm)"
      ]
    },
    {
      "cell_type": "code",
      "execution_count": null,
      "metadata": {
        "colab": {
          "base_uri": "https://localhost:8080/",
          "height": 286
        },
        "id": "UAHRRLLBJwv-",
        "outputId": "3e32fa71-9bdd-4998-9001-6356524bea84"
      },
      "outputs": [
        {
          "output_type": "execute_result",
          "data": {
            "text/plain": [
              "<matplotlib.axes._subplots.AxesSubplot at 0x7fbb90495d50>"
            ]
          },
          "metadata": {},
          "execution_count": 44
        },
        {
          "output_type": "display_data",
          "data": {
            "text/plain": [
              "<Figure size 432x288 with 2 Axes>"
            ],
            "image/png": "[encoded data removed]"
          },
          "metadata": {
            "needs_background": "light"
          }
        }
      ],
      "source": [
        "sns.heatmap(cm,square = True,annot = True)"
      ]
    },
    {
      "cell_type": "code",
      "execution_count": null,
      "metadata": {
        "id": "auG4QiihJ7S1"
      },
      "outputs": [],
      "source": [
        "from sklearn.tree import DecisionTreeClassifier,export_graphviz\n",
        "from sklearn import tree\n",
        "from IPython.display import SVG\n",
        "from graphviz import Source\n",
        "from IPython.display import display"
      ]
    },
    {
      "cell_type": "code",
      "execution_count": null,
      "metadata": {
        "colab": {
          "base_uri": "https://localhost:8080/"
        },
        "id": "f5DgHZgOJ_Qd",
        "outputId": "57c07f18-a912-4db5-9f05-466d5af10872"
      },
      "outputs": [
        {
          "output_type": "execute_result",
          "data": {
            "text/plain": [
              "DecisionTreeClassifier(criterion='entropy', max_depth=3, max_leaf_nodes=8,\n",
              "                       random_state=0)"
            ]
          },
          "metadata": {},
          "execution_count": 46
        }
      ],
      "source": [
        "classf = DecisionTreeClassifier(criterion='entropy', max_leaf_nodes=8, max_depth=3 ,random_state=0)\n",
        "classf.fit(feature_train,target_train)"
      ]
    },
    {
      "cell_type": "code",
      "execution_count": null,
      "metadata": {
        "colab": {
          "base_uri": "https://localhost:8080/"
        },
        "id": "Dh_41iLEKLtW",
        "outputId": "d46b0861-8873-487d-dafb-20d8be78a986"
      },
      "outputs": [
        {
          "output_type": "execute_result",
          "data": {
            "text/plain": [
              "array([1, 1, 1, 1, 1, 1, 1, 1, 1, 1, 1, 1, 1, 1, 1, 1, 1, 1, 1])"
            ]
          },
          "metadata": {},
          "execution_count": 47
        }
      ],
      "source": [
        "y_predicted = classf.predict(feature_test)\n",
        "y_predicted "
      ]
    },
    {
      "cell_type": "code",
      "execution_count": null,
      "metadata": {
        "colab": {
          "base_uri": "https://localhost:8080/"
        },
        "id": "Nt5PeaBlKbjW",
        "outputId": "051286bf-d66f-498d-8299-ac0f36903262"
      },
      "outputs": [
        {
          "output_type": "execute_result",
          "data": {
            "text/plain": [
              "0.7368421052631579"
            ]
          },
          "metadata": {},
          "execution_count": 48
        }
      ],
      "source": [
        "accuracy_score(y_predicted , target_test)"
      ]
    },
    {
      "cell_type": "code",
      "execution_count": null,
      "metadata": {
        "id": "Az3_w7AUP-ZT"
      },
      "outputs": [],
      "source": []
    },
    {
      "cell_type": "code",
      "execution_count": null,
      "metadata": {
        "colab": {
          "base_uri": "https://localhost:8080/",
          "height": 599
        },
        "id": "WOBRYQIeKpdt",
        "outputId": "0dca23dc-f297-4e8b-fd07-f4a7952493e2"
      },
      "outputs": [
        {
          "output_type": "display_data",
          "data": {
            "text/plain": [
              "<IPython.core.display.SVG object>"
            ],
            "image/svg+xml": "<svg height=\"433pt\" viewBox=\"0.00 0.00 842.00 433.00\" width=\"842pt\" xmlns=\"http://www.w3.org/2000/svg\" xmlns:xlink=\"http://www.w3.org/1999/xlink\">\n<g class=\"graph\" id=\"graph0\" transform=\"scale(1 1) rotate(0) translate(4 429)\">\n<title>Tree</title>\n<polygon fill=\"#ffffff\" points=\"-4,4 -4,-429 838,-429 838,4 -4,4\" stroke=\"transparent\"/>\n<!-- 0 -->\n<g class=\"node\" id=\"node1\">\n<title>0</title>\n<polygon fill=\"#89f0b4\" points=\"478,-425 347,-425 347,-342 478,-342 478,-425\" stroke=\"#000000\"/>\n<text fill=\"#000000\" font-family=\"Helvetica,sans-Serif\" font-size=\"14.00\" text-anchor=\"middle\" x=\"412.5\" y=\"-409.8\">comfort &lt;= 0.38</text>\n<text fill=\"#000000\" font-family=\"Helvetica,sans-Serif\" font-size=\"14.00\" text-anchor=\"middle\" x=\"412.5\" y=\"-394.8\">entropy = 1.01</text>\n<text fill=\"#000000\" font-family=\"Helvetica,sans-Serif\" font-size=\"14.00\" text-anchor=\"middle\" x=\"412.5\" y=\"-379.8\">samples = 71</text>\n<text fill=\"#000000\" font-family=\"Helvetica,sans-Serif\" font-size=\"14.00\" text-anchor=\"middle\" x=\"412.5\" y=\"-364.8\">value = [2, 50, 19]</text>\n<text fill=\"#000000\" font-family=\"Helvetica,sans-Serif\" font-size=\"14.00\" text-anchor=\"middle\" x=\"412.5\" y=\"-349.8\">class = 1</text>\n</g>\n<!-- 1 -->\n<g class=\"node\" id=\"node2\">\n<title>1</title>\n<polygon fill=\"#9ff2c2\" points=\"404,-306 273,-306 273,-223 404,-223 404,-306\" stroke=\"#000000\"/>\n<text fill=\"#000000\" font-family=\"Helvetica,sans-Serif\" font-size=\"14.00\" text-anchor=\"middle\" x=\"338.5\" y=\"-290.8\">bp &lt;= -0.607</text>\n<text fill=\"#000000\" font-family=\"Helvetica,sans-Serif\" font-size=\"14.00\" text-anchor=\"middle\" x=\"338.5\" y=\"-275.8\">entropy = 1.038</text>\n<text fill=\"#000000\" font-family=\"Helvetica,sans-Serif\" font-size=\"14.00\" text-anchor=\"middle\" x=\"338.5\" y=\"-260.8\">samples = 52</text>\n<text fill=\"#000000\" font-family=\"Helvetica,sans-Serif\" font-size=\"14.00\" text-anchor=\"middle\" x=\"338.5\" y=\"-245.8\">value = [1, 34, 17]</text>\n<text fill=\"#000000\" font-family=\"Helvetica,sans-Serif\" font-size=\"14.00\" text-anchor=\"middle\" x=\"338.5\" y=\"-230.8\">class = 1</text>\n</g>\n<!-- 0&#45;&gt;1 -->\n<g class=\"edge\" id=\"edge1\">\n<title>0-&gt;1</title>\n<path d=\"M386.6184,-341.8796C381.1858,-333.1434 375.4008,-323.8404 369.7947,-314.8253\" fill=\"none\" stroke=\"#000000\"/>\n<polygon fill=\"#000000\" points=\"372.7451,-312.9418 364.4921,-306.2981 366.8007,-316.6383 372.7451,-312.9418\" stroke=\"#000000\"/>\n<text fill=\"#000000\" font-family=\"Helvetica,sans-Serif\" font-size=\"14.00\" text-anchor=\"middle\" x=\"358.8153\" y=\"-326.945\">True</text>\n</g>\n<!-- 2 -->\n<g class=\"node\" id=\"node9\">\n<title>2</title>\n<polygon fill=\"#5cea97\" points=\"553,-306 422,-306 422,-223 553,-223 553,-306\" stroke=\"#000000\"/>\n<text fill=\"#000000\" font-family=\"Helvetica,sans-Serif\" font-size=\"14.00\" text-anchor=\"middle\" x=\"487.5\" y=\"-290.8\">o2_satur &lt;= -1.51</text>\n<text fill=\"#000000\" font-family=\"Helvetica,sans-Serif\" font-size=\"14.00\" text-anchor=\"middle\" x=\"487.5\" y=\"-275.8\">entropy = 0.774</text>\n<text fill=\"#000000\" font-family=\"Helvetica,sans-Serif\" font-size=\"14.00\" text-anchor=\"middle\" x=\"487.5\" y=\"-260.8\">samples = 19</text>\n<text fill=\"#000000\" font-family=\"Helvetica,sans-Serif\" font-size=\"14.00\" text-anchor=\"middle\" x=\"487.5\" y=\"-245.8\">value = [1, 16, 2]</text>\n<text fill=\"#000000\" font-family=\"Helvetica,sans-Serif\" font-size=\"14.00\" text-anchor=\"middle\" x=\"487.5\" y=\"-230.8\">class = 1</text>\n</g>\n<!-- 0&#45;&gt;2 -->\n<g class=\"edge\" id=\"edge8\">\n<title>0-&gt;2</title>\n<path d=\"M438.7314,-341.8796C444.2373,-333.1434 450.1006,-323.8404 455.7824,-314.8253\" fill=\"none\" stroke=\"#000000\"/>\n<polygon fill=\"#000000\" points=\"458.7857,-316.6242 461.1567,-306.2981 452.8637,-312.8919 458.7857,-316.6242\" stroke=\"#000000\"/>\n<text fill=\"#000000\" font-family=\"Helvetica,sans-Serif\" font-size=\"14.00\" text-anchor=\"middle\" x=\"466.6863\" y=\"-326.9789\">False</text>\n</g>\n<!-- 7 -->\n<g class=\"node\" id=\"node3\">\n<title>7</title>\n<polygon fill=\"#cef8e0\" points=\"257,-187 118,-187 118,-104 257,-104 257,-187\" stroke=\"#000000\"/>\n<text fill=\"#000000\" font-family=\"Helvetica,sans-Serif\" font-size=\"14.00\" text-anchor=\"middle\" x=\"187.5\" y=\"-171.8\">o2_satur &lt;= -1.067</text>\n<text fill=\"#000000\" font-family=\"Helvetica,sans-Serif\" font-size=\"14.00\" text-anchor=\"middle\" x=\"187.5\" y=\"-156.8\">entropy = 1.296</text>\n<text fill=\"#000000\" font-family=\"Helvetica,sans-Serif\" font-size=\"14.00\" text-anchor=\"middle\" x=\"187.5\" y=\"-141.8\">samples = 13</text>\n<text fill=\"#000000\" font-family=\"Helvetica,sans-Serif\" font-size=\"14.00\" text-anchor=\"middle\" x=\"187.5\" y=\"-126.8\">value = [1, 7, 5]</text>\n<text fill=\"#000000\" font-family=\"Helvetica,sans-Serif\" font-size=\"14.00\" text-anchor=\"middle\" x=\"187.5\" y=\"-111.8\">class = 1</text>\n</g>\n<!-- 1&#45;&gt;7 -->\n<g class=\"edge\" id=\"edge2\">\n<title>1-&gt;7</title>\n<path d=\"M285.6875,-222.8796C273.6182,-213.368 260.6961,-203.1843 248.3212,-193.432\" fill=\"none\" stroke=\"#000000\"/>\n<polygon fill=\"#000000\" points=\"250.3032,-190.5377 240.2827,-187.0969 245.9704,-196.0356 250.3032,-190.5377\" stroke=\"#000000\"/>\n</g>\n<!-- 8 -->\n<g class=\"node\" id=\"node6\">\n<title>8</title>\n<polygon fill=\"#91f1b9\" points=\"406,-187 275,-187 275,-104 406,-104 406,-187\" stroke=\"#000000\"/>\n<text fill=\"#000000\" font-family=\"Helvetica,sans-Serif\" font-size=\"14.00\" text-anchor=\"middle\" x=\"340.5\" y=\"-171.8\">comfort &lt;= -1.521</text>\n<text fill=\"#000000\" font-family=\"Helvetica,sans-Serif\" font-size=\"14.00\" text-anchor=\"middle\" x=\"340.5\" y=\"-156.8\">entropy = 0.89</text>\n<text fill=\"#000000\" font-family=\"Helvetica,sans-Serif\" font-size=\"14.00\" text-anchor=\"middle\" x=\"340.5\" y=\"-141.8\">samples = 39</text>\n<text fill=\"#000000\" font-family=\"Helvetica,sans-Serif\" font-size=\"14.00\" text-anchor=\"middle\" x=\"340.5\" y=\"-126.8\">value = [0, 27, 12]</text>\n<text fill=\"#000000\" font-family=\"Helvetica,sans-Serif\" font-size=\"14.00\" text-anchor=\"middle\" x=\"340.5\" y=\"-111.8\">class = 1</text>\n</g>\n<!-- 1&#45;&gt;8 -->\n<g class=\"edge\" id=\"edge5\">\n<title>1-&gt;8</title>\n<path d=\"M339.1995,-222.8796C339.3372,-214.6838 339.4834,-205.9891 339.626,-197.5013\" fill=\"none\" stroke=\"#000000\"/>\n<polygon fill=\"#000000\" points=\"343.1289,-197.3555 339.7975,-187.2981 336.1299,-197.2378 343.1289,-197.3555\" stroke=\"#000000\"/>\n</g>\n<!-- 11 -->\n<g class=\"node\" id=\"node4\">\n<title>11</title>\n<polygon fill=\"#8139e5\" points=\"115,-68 0,-68 0,0 115,0 115,-68\" stroke=\"#000000\"/>\n<text fill=\"#000000\" font-family=\"Helvetica,sans-Serif\" font-size=\"14.00\" text-anchor=\"middle\" x=\"57.5\" y=\"-52.8\">entropy = 0.0</text>\n<text fill=\"#000000\" font-family=\"Helvetica,sans-Serif\" font-size=\"14.00\" text-anchor=\"middle\" x=\"57.5\" y=\"-37.8\">samples = 1</text>\n<text fill=\"#000000\" font-family=\"Helvetica,sans-Serif\" font-size=\"14.00\" text-anchor=\"middle\" x=\"57.5\" y=\"-22.8\">value = [0, 0, 1]</text>\n<text fill=\"#000000\" font-family=\"Helvetica,sans-Serif\" font-size=\"14.00\" text-anchor=\"middle\" x=\"57.5\" y=\"-7.8\">class = 2</text>\n</g>\n<!-- 7&#45;&gt;11 -->\n<g class=\"edge\" id=\"edge3\">\n<title>7-&gt;11</title>\n<path d=\"M139.0928,-103.9815C128.0558,-94.5151 116.3347,-84.462 105.3223,-75.0168\" fill=\"none\" stroke=\"#000000\"/>\n<polygon fill=\"#000000\" points=\"107.3178,-72.1173 97.4487,-68.2637 102.7606,-77.4307 107.3178,-72.1173\" stroke=\"#000000\"/>\n</g>\n<!-- 12 -->\n<g class=\"node\" id=\"node5\">\n<title>12</title>\n<polygon fill=\"#b5f5d0\" points=\"251.5,-68 133.5,-68 133.5,0 251.5,0 251.5,-68\" stroke=\"#000000\"/>\n<text fill=\"#000000\" font-family=\"Helvetica,sans-Serif\" font-size=\"14.00\" text-anchor=\"middle\" x=\"192.5\" y=\"-52.8\">entropy = 1.281</text>\n<text fill=\"#000000\" font-family=\"Helvetica,sans-Serif\" font-size=\"14.00\" text-anchor=\"middle\" x=\"192.5\" y=\"-37.8\">samples = 12</text>\n<text fill=\"#000000\" font-family=\"Helvetica,sans-Serif\" font-size=\"14.00\" text-anchor=\"middle\" x=\"192.5\" y=\"-22.8\">value = [1, 7, 4]</text>\n<text fill=\"#000000\" font-family=\"Helvetica,sans-Serif\" font-size=\"14.00\" text-anchor=\"middle\" x=\"192.5\" y=\"-7.8\">class = 1</text>\n</g>\n<!-- 7&#45;&gt;12 -->\n<g class=\"edge\" id=\"edge4\">\n<title>7-&gt;12</title>\n<path d=\"M189.3618,-103.9815C189.7369,-95.618 190.1324,-86.7965 190.5116,-78.3409\" fill=\"none\" stroke=\"#000000\"/>\n<polygon fill=\"#000000\" points=\"194.0119,-78.4105 190.9635,-68.2637 187.019,-78.0968 194.0119,-78.4105\" stroke=\"#000000\"/>\n</g>\n<!-- 9 -->\n<g class=\"node\" id=\"node7\">\n<title>9</title>\n<polygon fill=\"#39e581\" points=\"394,-68 279,-68 279,0 394,0 394,-68\" stroke=\"#000000\"/>\n<text fill=\"#000000\" font-family=\"Helvetica,sans-Serif\" font-size=\"14.00\" text-anchor=\"middle\" x=\"336.5\" y=\"-52.8\">entropy = 0.0</text>\n<text fill=\"#000000\" font-family=\"Helvetica,sans-Serif\" font-size=\"14.00\" text-anchor=\"middle\" x=\"336.5\" y=\"-37.8\">samples = 3</text>\n<text fill=\"#000000\" font-family=\"Helvetica,sans-Serif\" font-size=\"14.00\" text-anchor=\"middle\" x=\"336.5\" y=\"-22.8\">value = [0, 3, 0]</text>\n<text fill=\"#000000\" font-family=\"Helvetica,sans-Serif\" font-size=\"14.00\" text-anchor=\"middle\" x=\"336.5\" y=\"-7.8\">class = 1</text>\n</g>\n<!-- 8&#45;&gt;9 -->\n<g class=\"edge\" id=\"edge6\">\n<title>8-&gt;9</title>\n<path d=\"M339.0105,-103.9815C338.7105,-95.618 338.394,-86.7965 338.0907,-78.3409\" fill=\"none\" stroke=\"#000000\"/>\n<polygon fill=\"#000000\" points=\"341.5855,-78.1317 337.7292,-68.2637 334.59,-78.3828 341.5855,-78.1317\" stroke=\"#000000\"/>\n</g>\n<!-- 10 -->\n<g class=\"node\" id=\"node8\">\n<title>10</title>\n<polygon fill=\"#9cf2c0\" points=\"543,-68 412,-68 412,0 543,0 543,-68\" stroke=\"#000000\"/>\n<text fill=\"#000000\" font-family=\"Helvetica,sans-Serif\" font-size=\"14.00\" text-anchor=\"middle\" x=\"477.5\" y=\"-52.8\">entropy = 0.918</text>\n<text fill=\"#000000\" font-family=\"Helvetica,sans-Serif\" font-size=\"14.00\" text-anchor=\"middle\" x=\"477.5\" y=\"-37.8\">samples = 36</text>\n<text fill=\"#000000\" font-family=\"Helvetica,sans-Serif\" font-size=\"14.00\" text-anchor=\"middle\" x=\"477.5\" y=\"-22.8\">value = [0, 24, 12]</text>\n<text fill=\"#000000\" font-family=\"Helvetica,sans-Serif\" font-size=\"14.00\" text-anchor=\"middle\" x=\"477.5\" y=\"-7.8\">class = 1</text>\n</g>\n<!-- 8&#45;&gt;10 -->\n<g class=\"edge\" id=\"edge7\">\n<title>8-&gt;10</title>\n<path d=\"M391.5137,-103.9815C403.258,-94.4232 415.7372,-84.2668 427.4405,-74.7419\" fill=\"none\" stroke=\"#000000\"/>\n<polygon fill=\"#000000\" points=\"429.8536,-77.2906 435.4002,-68.2637 425.435,-71.8614 429.8536,-77.2906\" stroke=\"#000000\"/>\n</g>\n<!-- 3 -->\n<g class=\"node\" id=\"node10\">\n<title>3</title>\n<polygon fill=\"#8139e5\" points=\"543,-179.5 428,-179.5 428,-111.5 543,-111.5 543,-179.5\" stroke=\"#000000\"/>\n<text fill=\"#000000\" font-family=\"Helvetica,sans-Serif\" font-size=\"14.00\" text-anchor=\"middle\" x=\"485.5\" y=\"-164.3\">entropy = 0.0</text>\n<text fill=\"#000000\" font-family=\"Helvetica,sans-Serif\" font-size=\"14.00\" text-anchor=\"middle\" x=\"485.5\" y=\"-149.3\">samples = 1</text>\n<text fill=\"#000000\" font-family=\"Helvetica,sans-Serif\" font-size=\"14.00\" text-anchor=\"middle\" x=\"485.5\" y=\"-134.3\">value = [0, 0, 1]</text>\n<text fill=\"#000000\" font-family=\"Helvetica,sans-Serif\" font-size=\"14.00\" text-anchor=\"middle\" x=\"485.5\" y=\"-119.3\">class = 2</text>\n</g>\n<!-- 2&#45;&gt;3 -->\n<g class=\"edge\" id=\"edge9\">\n<title>2-&gt;3</title>\n<path d=\"M486.8005,-222.8796C486.6212,-212.2134 486.4278,-200.7021 486.2462,-189.9015\" fill=\"none\" stroke=\"#000000\"/>\n<polygon fill=\"#000000\" points=\"489.7444,-189.7547 486.0767,-179.8149 482.7454,-189.8724 489.7444,-189.7547\" stroke=\"#000000\"/>\n</g>\n<!-- 4 -->\n<g class=\"node\" id=\"node11\">\n<title>4</title>\n<polygon fill=\"#50e890\" points=\"743.5,-187 561.5,-187 561.5,-104 743.5,-104 743.5,-187\" stroke=\"#000000\"/>\n<text fill=\"#000000\" font-family=\"Helvetica,sans-Serif\" font-size=\"14.00\" text-anchor=\"middle\" x=\"652.5\" y=\"-171.8\">core_temp_stbl &lt;= -0.731</text>\n<text fill=\"#000000\" font-family=\"Helvetica,sans-Serif\" font-size=\"14.00\" text-anchor=\"middle\" x=\"652.5\" y=\"-156.8\">entropy = 0.614</text>\n<text fill=\"#000000\" font-family=\"Helvetica,sans-Serif\" font-size=\"14.00\" text-anchor=\"middle\" x=\"652.5\" y=\"-141.8\">samples = 18</text>\n<text fill=\"#000000\" font-family=\"Helvetica,sans-Serif\" font-size=\"14.00\" text-anchor=\"middle\" x=\"652.5\" y=\"-126.8\">value = [1, 16, 1]</text>\n<text fill=\"#000000\" font-family=\"Helvetica,sans-Serif\" font-size=\"14.00\" text-anchor=\"middle\" x=\"652.5\" y=\"-111.8\">class = 1</text>\n</g>\n<!-- 2&#45;&gt;4 -->\n<g class=\"edge\" id=\"edge10\">\n<title>2-&gt;4</title>\n<path d=\"M545.209,-222.8796C558.523,-213.2774 572.7866,-202.9903 586.4259,-193.1534\" fill=\"none\" stroke=\"#000000\"/>\n<polygon fill=\"#000000\" points=\"588.7602,-195.7852 594.8236,-187.0969 584.6655,-190.1077 588.7602,-195.7852\" stroke=\"#000000\"/>\n</g>\n<!-- 5 -->\n<g class=\"node\" id=\"node12\">\n<title>5</title>\n<polygon fill=\"#bdf6d5\" points=\"693,-68 578,-68 578,0 693,0 693,-68\" stroke=\"#000000\"/>\n<text fill=\"#000000\" font-family=\"Helvetica,sans-Serif\" font-size=\"14.00\" text-anchor=\"middle\" x=\"635.5\" y=\"-52.8\">entropy = 1.5</text>\n<text fill=\"#000000\" font-family=\"Helvetica,sans-Serif\" font-size=\"14.00\" text-anchor=\"middle\" x=\"635.5\" y=\"-37.8\">samples = 4</text>\n<text fill=\"#000000\" font-family=\"Helvetica,sans-Serif\" font-size=\"14.00\" text-anchor=\"middle\" x=\"635.5\" y=\"-22.8\">value = [1, 2, 1]</text>\n<text fill=\"#000000\" font-family=\"Helvetica,sans-Serif\" font-size=\"14.00\" text-anchor=\"middle\" x=\"635.5\" y=\"-7.8\">class = 1</text>\n</g>\n<!-- 4&#45;&gt;5 -->\n<g class=\"edge\" id=\"edge11\">\n<title>4-&gt;5</title>\n<path d=\"M646.1698,-103.9815C644.8947,-95.618 643.5497,-86.7965 642.2605,-78.3409\" fill=\"none\" stroke=\"#000000\"/>\n<polygon fill=\"#000000\" points=\"645.6914,-77.6219 640.7241,-68.2637 638.7714,-78.677 645.6914,-77.6219\" stroke=\"#000000\"/>\n</g>\n<!-- 6 -->\n<g class=\"node\" id=\"node13\">\n<title>6</title>\n<polygon fill=\"#39e581\" points=\"834,-68 711,-68 711,0 834,0 834,-68\" stroke=\"#000000\"/>\n<text fill=\"#000000\" font-family=\"Helvetica,sans-Serif\" font-size=\"14.00\" text-anchor=\"middle\" x=\"772.5\" y=\"-52.8\">entropy = 0.0</text>\n<text fill=\"#000000\" font-family=\"Helvetica,sans-Serif\" font-size=\"14.00\" text-anchor=\"middle\" x=\"772.5\" y=\"-37.8\">samples = 14</text>\n<text fill=\"#000000\" font-family=\"Helvetica,sans-Serif\" font-size=\"14.00\" text-anchor=\"middle\" x=\"772.5\" y=\"-22.8\">value = [0, 14, 0]</text>\n<text fill=\"#000000\" font-family=\"Helvetica,sans-Serif\" font-size=\"14.00\" text-anchor=\"middle\" x=\"772.5\" y=\"-7.8\">class = 1</text>\n</g>\n<!-- 4&#45;&gt;6 -->\n<g class=\"edge\" id=\"edge12\">\n<title>4-&gt;6</title>\n<path d=\"M697.1836,-103.9815C707.2727,-94.607 717.981,-84.6572 728.0601,-75.2921\" fill=\"none\" stroke=\"#000000\"/>\n<polygon fill=\"#000000\" points=\"730.6809,-77.6346 735.6243,-68.2637 725.9161,-72.5065 730.6809,-77.6346\" stroke=\"#000000\"/>\n</g>\n</g>\n</svg>"
          },
          "metadata": {}
        }
      ],
      "source": [
        "graph = Source(tree.export_graphviz(classf, out_file=None\n",
        "   , feature_names=independent_variables, class_names=['0', '1' , '2'] \n",
        "   , filled = True))\n",
        "display(SVG(graph.pipe(format='svg')))"
      ]
    },
    {
      "cell_type": "code",
      "execution_count": null,
      "metadata": {
        "id": "ahz01bwmP-qY"
      },
      "outputs": [],
      "source": []
    },
    {
      "cell_type": "markdown",
      "source": [
        "SVM"
      ],
      "metadata": {
        "id": "bftGHjbscaQ9"
      }
    },
    {
      "cell_type": "code",
      "execution_count": null,
      "metadata": {
        "id": "UsJsoUFLN13Y"
      },
      "outputs": [],
      "source": [
        "from sklearn.svm import SVC\n",
        "SVC_model = SVC().fit(feature_train , target_train)\n",
        "test_svm = SVC_model.predict(feature_test)"
      ]
    },
    {
      "cell_type": "code",
      "execution_count": null,
      "metadata": {
        "colab": {
          "base_uri": "https://localhost:8080/"
        },
        "id": "VxwT_C7QN6Io",
        "outputId": "d38f18f4-6b47-4858-a2c9-e2069233e169"
      },
      "outputs": [
        {
          "output_type": "execute_result",
          "data": {
            "text/plain": [
              "0.7368421052631579"
            ]
          },
          "metadata": {},
          "execution_count": 51
        }
      ],
      "source": [
        "accuracy_score(test_svm, target_test)"
      ]
    },
    {
      "cell_type": "markdown",
      "source": [
        "KNeighborsClassifier"
      ],
      "metadata": {
        "id": "YEjQCiWScf7I"
      }
    },
    {
      "cell_type": "code",
      "execution_count": null,
      "metadata": {
        "id": "7guWIg7dOTxs"
      },
      "outputs": [],
      "source": [
        "from sklearn.neighbors import KNeighborsClassifier\n",
        " \n",
        "knn = KNeighborsClassifier(n_neighbors = 11)\n",
        " \n",
        "knn.fit(feature_train, target_train)\n",
        "pred = knn.predict(feature_test)"
      ]
    },
    {
      "cell_type": "code",
      "execution_count": null,
      "metadata": {
        "colab": {
          "base_uri": "https://localhost:8080/"
        },
        "id": "K82Pe5aUOg0V",
        "outputId": "efa6d67b-737a-47e6-97c0-3508e689466c"
      },
      "outputs": [
        {
          "output_type": "execute_result",
          "data": {
            "text/plain": [
              "0.7368421052631579"
            ]
          },
          "metadata": {},
          "execution_count": 53
        }
      ],
      "source": [
        "accuracy_score(pred , target_test)"
      ]
    },
    {
      "cell_type": "code",
      "execution_count": null,
      "metadata": {
        "colab": {
          "base_uri": "https://localhost:8080/"
        },
        "id": "iOchN-WOO5vp",
        "outputId": "c21683c3-e6f3-497d-f3c3-f83f780bc419"
      },
      "outputs": [
        {
          "output_type": "stream",
          "name": "stdout",
          "text": [
            "[[14  0]\n",
            " [ 5  0]]\n",
            "              precision    recall  f1-score   support\n",
            "\n",
            "           1       0.74      1.00      0.85        14\n",
            "           2       0.00      0.00      0.00         5\n",
            "\n",
            "    accuracy                           0.74        19\n",
            "   macro avg       0.37      0.50      0.42        19\n",
            "weighted avg       0.54      0.74      0.63        19\n",
            "\n"
          ]
        },
        {
          "output_type": "stream",
          "name": "stderr",
          "text": [
            "/usr/local/lib/python3.7/dist-packages/sklearn/metrics/_classification.py:1318: UndefinedMetricWarning: Precision and F-score are ill-defined and being set to 0.0 in labels with no predicted samples. Use `zero_division` parameter to control this behavior.\n",
            "  _warn_prf(average, modifier, msg_start, len(result))\n",
            "/usr/local/lib/python3.7/dist-packages/sklearn/metrics/_classification.py:1318: UndefinedMetricWarning: Precision and F-score are ill-defined and being set to 0.0 in labels with no predicted samples. Use `zero_division` parameter to control this behavior.\n",
            "  _warn_prf(average, modifier, msg_start, len(result))\n",
            "/usr/local/lib/python3.7/dist-packages/sklearn/metrics/_classification.py:1318: UndefinedMetricWarning: Precision and F-score are ill-defined and being set to 0.0 in labels with no predicted samples. Use `zero_division` parameter to control this behavior.\n",
            "  _warn_prf(average, modifier, msg_start, len(result))\n"
          ]
        }
      ],
      "source": [
        "from sklearn.metrics import classification_report, confusion_matrix\n",
        "print(confusion_matrix(target_test, pred))\n",
        " \n",
        "print(classification_report(target_test,pred))"
      ]
    },
    {
      "cell_type": "code",
      "execution_count": null,
      "metadata": {
        "colab": {
          "base_uri": "https://localhost:8080/",
          "height": 280
        },
        "id": "WpRzYOc3Prmd",
        "outputId": "7d086826-51a1-466c-9b61-d355b16e2aec"
      },
      "outputs": [
        {
          "output_type": "display_data",
          "data": {
            "text/plain": [
              "<Figure size 432x288 with 1 Axes>"
            ],
            "image/png": "[encoded data removed]"
          },
          "metadata": {
            "needs_background": "light"
          }
        }
      ],
      "source": [
        "neighbors = np.arange(1, 20)\n",
        "train_accuracy = np.empty(len(neighbors))\n",
        "test_accuracy = np.empty(len(neighbors))\n",
        "  \n",
        "for i, k in enumerate(neighbors):\n",
        "    knn = KNeighborsClassifier(n_neighbors=k)\n",
        "    knn.fit(feature_train, target_train)\n",
        "        \n",
        "    train_accuracy[i] = knn.score(feature_train, target_train)\n",
        "    test_accuracy[i] = knn.score(feature_test, target_test)\n",
        "  \n",
        "plt.plot(neighbors, test_accuracy, label = 'Testing dataset Accuracy')\n",
        "plt.plot(neighbors, train_accuracy, label = 'Training dataset Accuracy')\n",
        "  \n",
        "plt.legend()\n",
        "plt.xlabel('n_neighbors')\n",
        "plt.ylabel('Accuracy')\n",
        "plt.show()"
      ]
    },
    {
      "cell_type": "code",
      "execution_count": null,
      "metadata": {
        "colab": {
          "base_uri": "https://localhost:8080/"
        },
        "id": "J1Xn7TW8Pzm_",
        "outputId": "ad513e57-e7ab-42bc-9f3b-cbbcac923796"
      },
      "outputs": [
        {
          "output_type": "execute_result",
          "data": {
            "text/plain": [
              "0.7368421052631579"
            ]
          },
          "metadata": {},
          "execution_count": 56
        }
      ],
      "source": [
        "from sklearn.neighbors import KNeighborsClassifier\n",
        "knn_model = KNeighborsClassifier(n_neighbors=4).fit(feature_train, target_train)\n",
        "tst_p = knn_model.predict(feature_test)\n",
        "accuracy_score(target_test , tst_p)"
      ]
    },
    {
      "cell_type": "code",
      "source": [],
      "metadata": {
        "id": "pbPb-C2rQ1_4"
      },
      "execution_count": null,
      "outputs": []
    }
  ],
  "metadata": {
    "colab": {
      "collapsed_sections": [],
      "provenance": []
    },
    "kernelspec": {
      "display_name": "Python 3",
      "name": "python3"
    },
    "language_info": {
      "name": "python"
    }
  },
  "nbformat": 4,
  "nbformat_minor": 0
}